{
 "cells": [
  {
   "cell_type": "markdown",
   "metadata": {},
   "source": [
    "## Social Support on Life Happiness Causal Impact Research - Data Preprocessing ##\n",
    "In nowadays society, due to workforce globalization, it is common for individuals to move to locations that are far from family and original social group. Hence, social support becomes harder to obtain for a lot of people as they move to new locations because of work. Yet, social support is always a crucial component of personal mental health. Thus, it is important to research and understand how social support could impact people's life happiness. In this research, we use the World Happiness Reports back from 2013 to 2023 to evaluate the causal impacts between social support level and world happiness score all over the world.   \n",
    "   \n",
    "In this research, we will use the **Fixed Effect Regression** technique to assess the causal impact between Social Support and Happiness Score."
   ]
  },
  {
   "cell_type": "markdown",
   "metadata": {},
   "source": [
    "### Data Preprocessing ###\n",
    "Given that the World Happiness Report has changed its format overtime, we will need to first clean the 10 World Happiness Report and bind them into a single file. To align the scale for happiness and social support level, I will **rescale them between 0 and 10**. "
   ]
  },
  {
   "cell_type": "code",
   "execution_count": 27,
   "metadata": {},
   "outputs": [],
   "source": [
    "import os\n",
    "import pandas as pd\n",
    "import numpy as np\n",
    "from sklearn.preprocessing import MinMaxScaler \n",
    "scaler = MinMaxScaler(feature_range=(0,10)) "
   ]
  },
  {
   "cell_type": "code",
   "execution_count": 28,
   "metadata": {},
   "outputs": [],
   "source": [
    "###List all the raw data csv files\n",
    "raw_data_path = \"/Users/haochunniu/Desktop/Kaggle Compatition/World_Happiness_Report/raw_data/\"\n",
    "dir_list = np.array(os.listdir(raw_data_path))\n",
    "csv_files = dir_list[[ \".csv\" in i  for i in dir_list]]"
   ]
  },
  {
   "cell_type": "code",
   "execution_count": 29,
   "metadata": {},
   "outputs": [
    {
     "name": "stderr",
     "output_type": "stream",
     "text": [
      "/var/folders/6g/vz0p8qdj36g5q9_w2fd7gcs00000gn/T/ipykernel_1881/2521573518.py:5: SettingWithCopyWarning: \n",
      "A value is trying to be set on a copy of a slice from a DataFrame\n",
      "\n",
      "See the caveats in the documentation: https://pandas.pydata.org/pandas-docs/stable/user_guide/indexing.html#returning-a-view-versus-a-copy\n",
      "  report_2013['Happiness_Score'][104]=1\n"
     ]
    }
   ],
   "source": [
    "#2013 Report\n",
    "report_2013 = pd.read_csv(raw_data_path+csv_files[0])\n",
    "report_2013 = report_2013[['Country','Social Support','Happiness (Yesterday)']]\n",
    "report_2013 = report_2013.rename(columns={'Social Support':'Social_Support','Happiness (Yesterday)':'Happiness_Score'})\n",
    "report_2013['Happiness_Score'][104]=1\n",
    "report_2013['Happiness_Score'] = report_2013['Happiness_Score']*10\n",
    "report_2013['Social_Support'] = report_2013['Social_Support']*10\n",
    "report_2013['Year']=2013\n",
    "\n",
    "#2015 Report\n",
    "report_2015 = pd.read_csv(raw_data_path+csv_files[1])\n",
    "report_2015 = report_2015[['Country','Family','Happiness Score']]\n",
    "report_2015 = report_2015.rename(columns={'Family':'Social_Support','Happiness Score':'Happiness_Score'})\n",
    "report_2015['Social_Support'] = scaler.fit_transform(report_2015[['Social_Support']])\n",
    "report_2015['Year']=2015\n",
    "\n",
    "#2016 Report\n",
    "report_2016 = pd.read_csv(raw_data_path+csv_files[3])\n",
    "report_2016 = report_2016[['Country','Family','Happiness Score']]\n",
    "report_2016 = report_2016.rename(columns={'Family':'Social_Support','Happiness Score':'Happiness_Score'})\n",
    "report_2016['Social_Support'] = scaler.fit_transform(report_2016[['Social_Support']])\n",
    "report_2016['Year']=2016\n",
    "\n",
    "#2017 Report\n",
    "report_2017 = pd.read_csv(raw_data_path+csv_files[2])\n",
    "report_2017 = report_2017[['Country','Family','Happiness.Score']]\n",
    "report_2017 = report_2017.rename(columns={'Family':'Social_Support','Happiness.Score':'Happiness_Score'})\n",
    "report_2017['Social_Support'] = scaler.fit_transform(report_2017[['Social_Support']])\n",
    "report_2017['Year']=2017\n",
    "\n",
    "#2018 Report\n",
    "report_2018 = pd.read_csv(raw_data_path+csv_files[4])\n",
    "report_2018 = report_2018[['Country or region','Social support','Score']]\n",
    "report_2018 = report_2018.rename(columns={'Country or region':'Country','Social support':'Social_Support','Score':'Happiness_Score'})\n",
    "report_2018['Social_Support'] = scaler.fit_transform(report_2018[['Social_Support']])\n",
    "report_2018['Year']=2018\n",
    "\n",
    "#2019 Report\n",
    "report_2019 = pd.read_csv(raw_data_path+csv_files[5])\n",
    "report_2019 = report_2019[['Country or region','Social support','Score']]\n",
    "report_2019 = report_2019.rename(columns={'Country or region':'Country','Social support':'Social_Support','Score':'Happiness_Score'})\n",
    "report_2019['Social_Support'] = scaler.fit_transform(report_2019[['Social_Support']])\n",
    "report_2019['Year']=2019\n",
    "\n",
    "#2020 Report\n",
    "report_2020 = pd.read_csv(raw_data_path+csv_files[7])\n",
    "report_2020 = report_2020[['Country name','Ladder score','Social support']]\n",
    "report_2020 = report_2020.rename(columns={'Country name':'Country','Social support':'Social_Support','Ladder score':'Happiness_Score'})\n",
    "report_2020['Social_Support'] = scaler.fit_transform(report_2020[['Social_Support']])\n",
    "report_2020['Year']=2020\n",
    "\n",
    "#2021 Report\n",
    "report_2021 = pd.read_csv(raw_data_path+csv_files[6])\n",
    "report_2021 = report_2021[['Country name','Ladder score','Social support']]\n",
    "report_2021 = report_2021.rename(columns={'Country name':'Country','Social support':'Social_Support','Ladder score':'Happiness_Score'})\n",
    "report_2021['Social_Support'] = scaler.fit_transform(report_2021[['Social_Support']])\n",
    "report_2021['Year']=2021\n",
    "\n",
    "#2022 Report\n",
    "report_2022 = pd.read_csv(raw_data_path+csv_files[8])\n",
    "report_2022 = report_2022[['Country','Happiness score','Explained by: Social support']]\n",
    "report_2022 = report_2022.rename(columns={'Explained by: Social support':'Social_Support','Happiness score':'Happiness_Score'})\n",
    "report_2022['Social_Support'] = scaler.fit_transform(report_2022[['Social_Support']])\n",
    "report_2022['Year']=2022\n",
    "\n",
    "#2023 Report\n",
    "report_2023 = pd.read_csv(raw_data_path+csv_files[9])\n",
    "report_2023 = report_2023[['Country name','Ladder score','Social support']]\n",
    "report_2023 = report_2023.rename(columns={'Country name':'Country','Social support':'Social_Support','Ladder score':'Happiness_Score'})\n",
    "report_2023['Social_Support'] = scaler.fit_transform(report_2023[['Social_Support']])\n",
    "report_2023['Year']=2023"
   ]
  },
  {
   "cell_type": "code",
   "execution_count": 33,
   "metadata": {},
   "outputs": [
    {
     "data": {
      "text/html": [
       "<div>\n",
       "<style scoped>\n",
       "    .dataframe tbody tr th:only-of-type {\n",
       "        vertical-align: middle;\n",
       "    }\n",
       "\n",
       "    .dataframe tbody tr th {\n",
       "        vertical-align: top;\n",
       "    }\n",
       "\n",
       "    .dataframe thead th {\n",
       "        text-align: right;\n",
       "    }\n",
       "</style>\n",
       "<table border=\"1\" class=\"dataframe\">\n",
       "  <thead>\n",
       "    <tr style=\"text-align: right;\">\n",
       "      <th></th>\n",
       "      <th>Country</th>\n",
       "      <th>Social_Support</th>\n",
       "      <th>Happiness_Score</th>\n",
       "      <th>Year</th>\n",
       "    </tr>\n",
       "  </thead>\n",
       "  <tbody>\n",
       "    <tr>\n",
       "      <th>0</th>\n",
       "      <td>Afghanistan</td>\n",
       "      <td>5.25</td>\n",
       "      <td>7.21</td>\n",
       "      <td>2013</td>\n",
       "    </tr>\n",
       "    <tr>\n",
       "      <th>1</th>\n",
       "      <td>Albania</td>\n",
       "      <td>7.59</td>\n",
       "      <td>5.68</td>\n",
       "      <td>2013</td>\n",
       "    </tr>\n",
       "    <tr>\n",
       "      <th>2</th>\n",
       "      <td>Algeria</td>\n",
       "      <td>8.31</td>\n",
       "      <td>5.42</td>\n",
       "      <td>2013</td>\n",
       "    </tr>\n",
       "    <tr>\n",
       "      <th>3</th>\n",
       "      <td>Angola</td>\n",
       "      <td>7.23</td>\n",
       "      <td>7.08</td>\n",
       "      <td>2013</td>\n",
       "    </tr>\n",
       "    <tr>\n",
       "      <th>4</th>\n",
       "      <td>Argentina</td>\n",
       "      <td>9.06</td>\n",
       "      <td>8.13</td>\n",
       "      <td>2013</td>\n",
       "    </tr>\n",
       "  </tbody>\n",
       "</table>\n",
       "</div>"
      ],
      "text/plain": [
       "       Country  Social_Support  Happiness_Score  Year\n",
       "0  Afghanistan            5.25             7.21  2013\n",
       "1      Albania            7.59             5.68  2013\n",
       "2      Algeria            8.31             5.42  2013\n",
       "3       Angola            7.23             7.08  2013\n",
       "4    Argentina            9.06             8.13  2013"
      ]
     },
     "execution_count": 33,
     "metadata": {},
     "output_type": "execute_result"
    }
   ],
   "source": [
    "###Row bind all csv files into a single file \n",
    "all_report = pd.concat([report_2013,report_2015,report_2016,report_2017,report_2018,report_2019,report_2020,report_2021,report_2022,report_2023])\n",
    "all_report.head(5)"
   ]
  },
  {
   "cell_type": "code",
   "execution_count": 34,
   "metadata": {},
   "outputs": [],
   "source": [
    "###After combining all csv files, we notice that not all country existed in all 10 reports.\n",
    "###Hence, we only keep the countries that existed in all 10 reports.\n",
    "country_cnt = pd.DataFrame(all_report['Country'].value_counts()).reset_index()\n",
    "country_cnt.columns = [\"Country\",\"Cnt\"]\n",
    "country_list = country_cnt[country_cnt['Cnt']==10]['Country']\n",
    "country_list = country_list.to_list()\n",
    "all_report = all_report[all_report['Country'].isin(country_list)]\n",
    "all_report.to_csv(\"/Users/haochunniu/Desktop/Kaggle Compatition/World_Happiness_Report/all_report.csv\",index=False)"
   ]
  }
 ],
 "metadata": {
  "kernelspec": {
   "display_name": "Python 3.10.6 64-bit",
   "language": "python",
   "name": "python3"
  },
  "language_info": {
   "codemirror_mode": {
    "name": "ipython",
    "version": 3
   },
   "file_extension": ".py",
   "mimetype": "text/x-python",
   "name": "python",
   "nbconvert_exporter": "python",
   "pygments_lexer": "ipython3",
   "version": "3.10.6"
  },
  "orig_nbformat": 4,
  "vscode": {
   "interpreter": {
    "hash": "aee8b7b246df8f9039afb4144a1f6fd8d2ca17a180786b69acc140d282b71a49"
   }
  }
 },
 "nbformat": 4,
 "nbformat_minor": 2
}
