{
 "cells": [
  {
   "cell_type": "markdown",
   "metadata": {},
   "source": [
    "## Social Support on Life Happiness Causal Impact Research - Fixed Effect Regression ##\n",
    "In this research, because the data is time-relevant panel data, we will use the **Fixed Effect Regression** technique. In order to use **Fixed Effect Regression** model, we are assuming that our **target variable (Happiness Score)** is **time-varient** and that all **omitted variables** are **time-invarient**. With demeaning, we could remove the effect of the **time-invarient omitted variables**."
   ]
  },
  {
   "cell_type": "code",
   "execution_count": 5,
   "metadata": {},
   "outputs": [],
   "source": [
    "import os\n",
    "import pandas as pd\n",
    "import numpy as np\n",
    "import statsmodels.api as sm"
   ]
  },
  {
   "cell_type": "code",
   "execution_count": 4,
   "metadata": {},
   "outputs": [
    {
     "data": {
      "text/html": [
       "<div>\n",
       "<style scoped>\n",
       "    .dataframe tbody tr th:only-of-type {\n",
       "        vertical-align: middle;\n",
       "    }\n",
       "\n",
       "    .dataframe tbody tr th {\n",
       "        vertical-align: top;\n",
       "    }\n",
       "\n",
       "    .dataframe thead th {\n",
       "        text-align: right;\n",
       "    }\n",
       "</style>\n",
       "<table border=\"1\" class=\"dataframe\">\n",
       "  <thead>\n",
       "    <tr style=\"text-align: right;\">\n",
       "      <th></th>\n",
       "      <th>Country</th>\n",
       "      <th>Social_Support</th>\n",
       "      <th>Happiness_Score</th>\n",
       "      <th>Year</th>\n",
       "    </tr>\n",
       "  </thead>\n",
       "  <tbody>\n",
       "    <tr>\n",
       "      <th>0</th>\n",
       "      <td>Afghanistan</td>\n",
       "      <td>5.25</td>\n",
       "      <td>7.21</td>\n",
       "      <td>2013</td>\n",
       "    </tr>\n",
       "    <tr>\n",
       "      <th>1</th>\n",
       "      <td>Albania</td>\n",
       "      <td>7.59</td>\n",
       "      <td>5.68</td>\n",
       "      <td>2013</td>\n",
       "    </tr>\n",
       "    <tr>\n",
       "      <th>2</th>\n",
       "      <td>Algeria</td>\n",
       "      <td>8.31</td>\n",
       "      <td>5.42</td>\n",
       "      <td>2013</td>\n",
       "    </tr>\n",
       "  </tbody>\n",
       "</table>\n",
       "</div>"
      ],
      "text/plain": [
       "       Country  Social_Support  Happiness_Score  Year\n",
       "0  Afghanistan            5.25             7.21  2013\n",
       "1      Albania            7.59             5.68  2013\n",
       "2      Algeria            8.31             5.42  2013"
      ]
     },
     "execution_count": 4,
     "metadata": {},
     "output_type": "execute_result"
    }
   ],
   "source": [
    "###Load the raw data\n",
    "all_report = pd.read_csv(\"/Users/haochunniu/Desktop/Kaggle Compatition/World_Happiness_Report/all_report.csv\")\n",
    "all_report.head(3)"
   ]
  },
  {
   "cell_type": "code",
   "execution_count": 18,
   "metadata": {},
   "outputs": [],
   "source": [
    "###Use the demean method for Fixed Effect Regression model\n",
    "\n",
    "#Calculate the average Happiness Score (Y) for each country\n",
    "happiness_avg = all_report.groupby('Country').agg({'Happiness_Score':'mean'}).reset_index()\n",
    "happiness_avg = happiness_avg.rename(columns={'Happiness_Score':'Avg_Happiness_Score'})\n",
    "\n",
    "#Calculate the average Social Support (X) for each country\n",
    "social_support_avg = all_report.groupby('Country').agg({'Social_Support':'mean'}).reset_index()\n",
    "social_support_avg = social_support_avg.rename(columns={'Social_Support':'Avg_Social_Support'})\n",
    "\n",
    "#Left Join the avg columns back to all dataframe\n",
    "all_report2 = all_report.merge(happiness_avg,how='left',left_on='Country',right_on='Country')\n",
    "all_report2 = all_report2.merge(social_support_avg,how='left',left_on='Country',right_on='Country')\n",
    "\n",
    "#Calculate the ( Y - Y_avg ) and the ( X - X_avg ) columns\n",
    "all_report2['Demean_Happiness_Score'] = all_report2['Happiness_Score'] - all_report2['Avg_Happiness_Score']\n",
    "all_report2['Demean_Social_Support'] =  all_report2['Social_Support'] - all_report2['Avg_Social_Support']\n"
   ]
  },
  {
   "cell_type": "code",
   "execution_count": 20,
   "metadata": {},
   "outputs": [
    {
     "name": "stdout",
     "output_type": "stream",
     "text": [
      "                                   OLS Regression Results                                  \n",
      "===========================================================================================\n",
      "Dep. Variable:     Demean_Happiness_Score   R-squared (uncentered):                   0.178\n",
      "Model:                                OLS   Adj. R-squared (uncentered):              0.177\n",
      "Method:                     Least Squares   F-statistic:                              248.2\n",
      "Date:                    Sun, 29 Oct 2023   Prob (F-statistic):                    9.00e-51\n",
      "Time:                            10:56:09   Log-Likelihood:                         -1029.5\n",
      "No. Observations:                    1150   AIC:                                      2061.\n",
      "Df Residuals:                        1149   BIC:                                      2066.\n",
      "Df Model:                               1                                                  \n",
      "Covariance Type:                nonrobust                                                  \n",
      "=========================================================================================\n",
      "                            coef    std err          t      P>|t|      [0.025      0.975]\n",
      "-----------------------------------------------------------------------------------------\n",
      "Demean_Social_Support     0.3898      0.025     15.753      0.000       0.341       0.438\n",
      "==============================================================================\n",
      "Omnibus:                      524.281   Durbin-Watson:                   1.202\n",
      "Prob(Omnibus):                  0.000   Jarque-Bera (JB):             2849.792\n",
      "Skew:                           2.083   Prob(JB):                         0.00\n",
      "Kurtosis:                       9.490   Cond. No.                         1.00\n",
      "==============================================================================\n",
      "\n",
      "Notes:\n",
      "[1] R² is computed without centering (uncentered) since the model does not contain a constant.\n",
      "[2] Standard Errors assume that the covariance matrix of the errors is correctly specified.\n"
     ]
    }
   ],
   "source": [
    "###Regress ( Y - Y_avg ) with ( X - X_avg ) to estimate the causal effect\n",
    "model = sm.OLS(all_report2.Demean_Happiness_Score, all_report2.Demean_Social_Support)\n",
    "result = model.fit()\n",
    "print(result.summary())"
   ]
  },
  {
   "cell_type": "markdown",
   "metadata": {},
   "source": [
    "## Conclusion ##\n",
    "Based on the regression result, the demeaned Social Support variable has **statistically significant** effect on demeaned Happiness Score. To be more specific, **an unit increase in Social Support level will result in 0.3898 units increase in Happiness Score**. For the initial purpose of this research, as long as the variable is **statistically significant**, it meant that the Social Support had **effective impacts** on Happiness Score. Yet, given that the Fixed Effect Regression method is a **parametric method** and  requires **certain assumptions**, all the result is interpreted while assuming that all **omitted variables** are **time-invarient**.   \n",
    "   \n",
    "However, this initial analysis still showed some positive and good result on the causal impact between Social Support and Happiness Score. Hence, further analysis would definitely worth the effort."
   ]
  }
 ],
 "metadata": {
  "kernelspec": {
   "display_name": "Python 3.10.6 64-bit",
   "language": "python",
   "name": "python3"
  },
  "language_info": {
   "codemirror_mode": {
    "name": "ipython",
    "version": 3
   },
   "file_extension": ".py",
   "mimetype": "text/x-python",
   "name": "python",
   "nbconvert_exporter": "python",
   "pygments_lexer": "ipython3",
   "version": "3.10.6"
  },
  "orig_nbformat": 4,
  "vscode": {
   "interpreter": {
    "hash": "aee8b7b246df8f9039afb4144a1f6fd8d2ca17a180786b69acc140d282b71a49"
   }
  }
 },
 "nbformat": 4,
 "nbformat_minor": 2
}
